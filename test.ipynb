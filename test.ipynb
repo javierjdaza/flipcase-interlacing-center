{
 "cells": [
  {
   "cell_type": "code",
   "execution_count": 1,
   "metadata": {},
   "outputs": [],
   "source": [
    "import glob"
   ]
  },
  {
   "cell_type": "code",
   "execution_count": 3,
   "metadata": {},
   "outputs": [
    {
     "data": {
      "text/plain": [
       "['./phone_svgs/iPhone 14 Pro Max.svg',\n",
       " './phone_svgs/iPhone 13 Pro.svg',\n",
       " './phone_svgs/iPhone 12 Pro.svg',\n",
       " './phone_svgs/iPhone 12 Pro Max.svg',\n",
       " './phone_svgs/iPhone 14 Pro.svg',\n",
       " './phone_svgs/iPhone 15 Plus.svg',\n",
       " './phone_svgs/iPhone 15 Pro.svg',\n",
       " './phone_svgs/iPhone 15 Pro Max.svg',\n",
       " './phone_svgs/Samsung S22 Ultra.svg',\n",
       " './phone_svgs/iPhone 14.svg',\n",
       " './phone_svgs/iPhone 12.svg',\n",
       " './phone_svgs/iPhone 13.svg',\n",
       " './phone_svgs/iPhone 11.svg',\n",
       " './phone_svgs/Samsung S23 Ultra.svg']"
      ]
     },
     "execution_count": 3,
     "metadata": {},
     "output_type": "execute_result"
    }
   ],
   "source": [
    "glob.glob('./phone_svgs/*')"
   ]
  },
  {
   "cell_type": "code",
   "execution_count": null,
   "metadata": {},
   "outputs": [],
   "source": []
  }
 ],
 "metadata": {
  "kernelspec": {
   "display_name": "Python 3",
   "language": "python",
   "name": "python3"
  },
  "language_info": {
   "codemirror_mode": {
    "name": "ipython",
    "version": 3
   },
   "file_extension": ".py",
   "mimetype": "text/x-python",
   "name": "python",
   "nbconvert_exporter": "python",
   "pygments_lexer": "ipython3",
   "version": "3.11.0"
  }
 },
 "nbformat": 4,
 "nbformat_minor": 2
}
